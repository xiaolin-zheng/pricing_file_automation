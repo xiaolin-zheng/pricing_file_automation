{
 "cells": [
  {
   "cell_type": "code",
   "execution_count": 1,
   "id": "fbb9d0bf-1968-4c0b-96cc-54e3de157a2c",
   "metadata": {},
   "outputs": [],
   "source": [
    "%load_ext autoreload\n",
    "%autoreload 2"
   ]
  },
  {
   "cell_type": "code",
   "execution_count": 2,
   "id": "f3664925-c6a5-40e6-b9af-0c10ffb9af46",
   "metadata": {},
   "outputs": [],
   "source": [
    "import pandas as pd\n",
    "import cs_redshift_connector as RC"
   ]
  },
  {
   "cell_type": "markdown",
   "id": "2b5836c4-5f53-4045-bd17-bee3c6eed7d4",
   "metadata": {},
   "source": [
    "## initialise a connection (default is prd-gallium-redshift)"
   ]
  },
  {
   "cell_type": "code",
   "execution_count": 5,
   "id": "13441534-2c4f-4a19-8a35-d12ce6b6a651",
   "metadata": {},
   "outputs": [],
   "source": [
    "conn = RC.get_conn()\n",
    "\n"
   ]
  },
  {
   "cell_type": "markdown",
   "id": "52a5f609-8148-4c51-842e-3f2bac444116",
   "metadata": {},
   "source": [
    "## put a query into a dataframe"
   ]
  },
  {
   "cell_type": "code",
   "execution_count": 4,
   "id": "10ce16da-419d-41f9-888c-933c8a8e5d2d",
   "metadata": {},
   "outputs": [
    {
     "data": {
      "text/html": [
       "<div>\n",
       "<style scoped>\n",
       "    .dataframe tbody tr th:only-of-type {\n",
       "        vertical-align: middle;\n",
       "    }\n",
       "\n",
       "    .dataframe tbody tr th {\n",
       "        vertical-align: top;\n",
       "    }\n",
       "\n",
       "    .dataframe thead th {\n",
       "        text-align: right;\n",
       "    }\n",
       "</style>\n",
       "<table border=\"1\" class=\"dataframe\">\n",
       "  <thead>\n",
       "    <tr style=\"text-align: right;\">\n",
       "      <th></th>\n",
       "      <th>click_issuer</th>\n",
       "      <th>click_vertical</th>\n",
       "      <th>revenue_issuer</th>\n",
       "    </tr>\n",
       "  </thead>\n",
       "  <tbody>\n",
       "    <tr>\n",
       "      <th>0</th>\n",
       "      <td>ZUTO</td>\n",
       "      <td>Auto</td>\n",
       "      <td>Zuto</td>\n",
       "    </tr>\n",
       "    <tr>\n",
       "      <th>1</th>\n",
       "      <td>ZUTO</td>\n",
       "      <td>Loans</td>\n",
       "      <td>Zuto</td>\n",
       "    </tr>\n",
       "    <tr>\n",
       "      <th>2</th>\n",
       "      <td>zopa-tesco-hp-secured</td>\n",
       "      <td>Auto</td>\n",
       "      <td>Zopa Tesco Hire Purchase</td>\n",
       "    </tr>\n",
       "    <tr>\n",
       "      <th>3</th>\n",
       "      <td>zopa-hp</td>\n",
       "      <td>Auto</td>\n",
       "      <td>Zopa Hire Purchase</td>\n",
       "    </tr>\n",
       "    <tr>\n",
       "      <th>4</th>\n",
       "      <td>zopa-hp-secured</td>\n",
       "      <td>Auto</td>\n",
       "      <td>Zopa Hire Purchase</td>\n",
       "    </tr>\n",
       "    <tr>\n",
       "      <th>...</th>\n",
       "      <td>...</td>\n",
       "      <td>...</td>\n",
       "      <td>...</td>\n",
       "    </tr>\n",
       "    <tr>\n",
       "      <th>95</th>\n",
       "      <td>Sainsbury's Bank (Nectar Cardholders Only)</td>\n",
       "      <td>Loans</td>\n",
       "      <td>Sainsburys</td>\n",
       "    </tr>\n",
       "    <tr>\n",
       "      <th>96</th>\n",
       "      <td>Sainsbury's Bank (Nectar Members Only)</td>\n",
       "      <td>Loans</td>\n",
       "      <td>Sainsburys</td>\n",
       "    </tr>\n",
       "    <tr>\n",
       "      <th>97</th>\n",
       "      <td>Sainsbury's Shopper (Nectar Cardholders Only)</td>\n",
       "      <td>Loans</td>\n",
       "      <td>Sainsburys</td>\n",
       "    </tr>\n",
       "    <tr>\n",
       "      <th>98</th>\n",
       "      <td>RBS - Specific Eligibility Criteria Applies</td>\n",
       "      <td>Auto</td>\n",
       "      <td>RBS</td>\n",
       "    </tr>\n",
       "    <tr>\n",
       "      <th>99</th>\n",
       "      <td>Royal Bank of Scotland</td>\n",
       "      <td>Auto</td>\n",
       "      <td>RBS</td>\n",
       "    </tr>\n",
       "  </tbody>\n",
       "</table>\n",
       "<p>100 rows × 3 columns</p>\n",
       "</div>"
      ],
      "text/plain": [
       "                                     click_issuer click_vertical  \\\n",
       "0                                            ZUTO           Auto   \n",
       "1                                            ZUTO          Loans   \n",
       "2                           zopa-tesco-hp-secured           Auto   \n",
       "3                                         zopa-hp           Auto   \n",
       "4                                 zopa-hp-secured           Auto   \n",
       "..                                            ...            ...   \n",
       "95     Sainsbury's Bank (Nectar Cardholders Only)          Loans   \n",
       "96         Sainsbury's Bank (Nectar Members Only)          Loans   \n",
       "97  Sainsbury's Shopper (Nectar Cardholders Only)          Loans   \n",
       "98    RBS - Specific Eligibility Criteria Applies           Auto   \n",
       "99                         Royal Bank of Scotland           Auto   \n",
       "\n",
       "              revenue_issuer  \n",
       "0                       Zuto  \n",
       "1                       Zuto  \n",
       "2   Zopa Tesco Hire Purchase  \n",
       "3         Zopa Hire Purchase  \n",
       "4         Zopa Hire Purchase  \n",
       "..                       ...  \n",
       "95                Sainsburys  \n",
       "96                Sainsburys  \n",
       "97                Sainsburys  \n",
       "98                       RBS  \n",
       "99                       RBS  \n",
       "\n",
       "[100 rows x 3 columns]"
      ]
     },
     "execution_count": 4,
     "metadata": {},
     "output_type": "execute_result"
    }
   ],
   "source": [
    "df_test = RC.sql_2_df('select top 100 * from post_processed_uk.rpp_issuer_mapping', conn )\n",
    "df_test"
   ]
  },
  {
   "cell_type": "code",
   "execution_count": 6,
   "id": "cb0a7f65-94c3-454c-bd17-42d7e49dac6b",
   "metadata": {},
   "outputs": [],
   "source": [
    "## za example"
   ]
  },
  {
   "cell_type": "code",
   "execution_count": null,
   "id": "53b01ea6-9c52-4733-8c52-7b04dfcebc57",
   "metadata": {},
   "outputs": [],
   "source": [
    "za_conn = RC.get_conn('segment-za')"
   ]
  },
  {
   "cell_type": "code",
   "execution_count": 7,
   "id": "91246ec2-7edf-42be-a5ef-6e5ea1204f20",
   "metadata": {},
   "outputs": [
    {
     "data": {
      "text/html": [
       "<div>\n",
       "<style scoped>\n",
       "    .dataframe tbody tr th:only-of-type {\n",
       "        vertical-align: middle;\n",
       "    }\n",
       "\n",
       "    .dataframe tbody tr th {\n",
       "        vertical-align: top;\n",
       "    }\n",
       "\n",
       "    .dataframe thead th {\n",
       "        text-align: right;\n",
       "    }\n",
       "</style>\n",
       "<table border=\"1\" class=\"dataframe\">\n",
       "  <thead>\n",
       "    <tr style=\"text-align: right;\">\n",
       "      <th></th>\n",
       "      <th>user_id</th>\n",
       "      <th>signup_months_diff</th>\n",
       "    </tr>\n",
       "  </thead>\n",
       "  <tbody>\n",
       "    <tr>\n",
       "      <th>0</th>\n",
       "      <td>00346e62-4d4d-45db-a618-36034999ed06</td>\n",
       "      <td>6</td>\n",
       "    </tr>\n",
       "    <tr>\n",
       "      <th>1</th>\n",
       "      <td>00346e62-4d4d-45db-a618-36034999ed06</td>\n",
       "      <td>6</td>\n",
       "    </tr>\n",
       "  </tbody>\n",
       "</table>\n",
       "</div>"
      ],
      "text/plain": [
       "                                user_id  signup_months_diff\n",
       "0  00346e62-4d4d-45db-a618-36034999ed06                   6\n",
       "1  00346e62-4d4d-45db-a618-36034999ed06                   6"
      ]
     },
     "execution_count": 7,
     "metadata": {},
     "output_type": "execute_result"
    }
   ],
   "source": [
    "sql_stat = \"\"\"\n",
    "select top 100 user_id, signup_months_diff\n",
    "from public.ak_za_engagement_segmentation_poc\n",
    "where 1=1\n",
    "    and user_id = '00346e62-4d4d-45db-a618-36034999ed06';\n",
    "\"\"\"\n",
    "    \n",
    "df_za = RC.sql_2_df(sql_stat, za_conn )\n",
    "df_za"
   ]
  }
 ],
 "metadata": {
  "kernelspec": {
   "display_name": "Python 3 (ipykernel)",
   "language": "python",
   "name": "python3"
  },
  "language_info": {
   "codemirror_mode": {
    "name": "ipython",
    "version": 3
   },
   "file_extension": ".py",
   "mimetype": "text/x-python",
   "name": "python",
   "nbconvert_exporter": "python",
   "pygments_lexer": "ipython3",
   "version": "3.9.12"
  }
 },
 "nbformat": 4,
 "nbformat_minor": 5
}
